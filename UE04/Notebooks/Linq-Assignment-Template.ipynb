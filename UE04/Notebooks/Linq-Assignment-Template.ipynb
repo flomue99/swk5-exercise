{
 "cells": [
  {
   "cell_type": "markdown",
   "metadata": {},
   "source": [
    "Aufgaben zu LINQ\n",
    "================"
   ]
  },
  {
   "cell_type": "markdown",
   "metadata": {},
   "source": [
    "Gegeben sei folgende Listen von Studierenden. Führen Sie auf diesem Datenbestand\n",
    "die nachfolgend angeführten LINQ-Abfragen durch."
   ]
  },
  {
   "cell_type": "code",
   "execution_count": null,
   "metadata": {
    "dotnet_interactive": {
     "language": "csharp"
    },
    "vscode": {
     "languageId": "polyglot-notebook"
    }
   },
   "outputs": [],
   "source": [
    "record Student (string MatNr, string Name, string Subject, int[] Grades);\n",
    "\n",
    "IEnumerable<Student> students = new List<Student> {\n",
    "  new (\"s12345\", \"Huber\",   \"Se\", new [] { 2, 3, 2, 1, 3 }),\n",
    "  new (\"s12388\", \"Mayr\",    \"MC\", new [] { 1, 2, 3, 2, 1 }),\n",
    "  new (\"s12321\", \"Bauer\",   \"se\", new [] { 3, 5, 5, 2, 3 }),\n",
    "  new (\"s12353\", \"Schmidt\", \"SE\", new [] { 2, 4, 3, 2, 1 }),\n",
    "};"
   ]
  },
  {
   "cell_type": "markdown",
   "metadata": {},
   "source": [
    "## Aufgabe 1\n",
    "Erstellen Sie eine Liste aller Studierenden des Studiengangs `SE`\n",
    "(Groß/Kleinschreibung ist irrelevant), welche als Elemente die Matrikelnummern und die Namen\n",
    "der Studierenden, nicht aber deren Noten enthält. Verwenden Sie dazu\n",
    "LINQ-Syntax. Geben Sie diese Liste anschließend aus."
   ]
  },
  {
   "cell_type": "code",
   "execution_count": null,
   "metadata": {
    "dotnet_interactive": {
     "language": "csharp"
    },
    "vscode": {
     "languageId": "polyglot-notebook"
    }
   },
   "outputs": [],
   "source": [
    "// TODO"
   ]
  },
  {
   "cell_type": "markdown",
   "metadata": {},
   "source": [
    "## Aufgabe 2\n",
    "Implementieren Sie die LINQ-Abfrage aus Beispiel 1 unter ausschließlicher Verwendung von Erweiterungsmethoden."
   ]
  },
  {
   "cell_type": "code",
   "execution_count": null,
   "metadata": {
    "dotnet_interactive": {
     "language": "csharp"
    },
    "vscode": {
     "languageId": "polyglot-notebook"
    }
   },
   "outputs": [],
   "source": [
    "// TODO"
   ]
  },
  {
   "cell_type": "markdown",
   "metadata": {},
   "source": [
    "## Aufgabe 3\n",
    "Ermitteln Sie alle Studierende, welche jede LVA mit mindestens \"Befriedigend\"\n",
    "abgeschlossen haben. *Hinweis:* Verwenden Sie die Erweiterungsmethode `bool All<T> (this IEnumerable<T> source, Func<T,bool> predicate)`."
   ]
  },
  {
   "cell_type": "code",
   "execution_count": null,
   "metadata": {
    "dotnet_interactive": {
     "language": "csharp"
    },
    "vscode": {
     "languageId": "polyglot-notebook"
    }
   },
   "outputs": [],
   "source": [
    "// TODO                  "
   ]
  },
  {
   "cell_type": "markdown",
   "metadata": {},
   "source": [
    "## Aufgabe 4\n",
    "Erstellen Sie eine Liste mit den Namen und den Durchschnittsnoten aller\n",
    "Studierenden. Die Liste soll aufsteigend nach der Durchschnittsnote sortiert sein."
   ]
  },
  {
   "cell_type": "code",
   "execution_count": null,
   "metadata": {
    "dotnet_interactive": {
     "language": "csharp"
    },
    "vscode": {
     "languageId": "polyglot-notebook"
    }
   },
   "outputs": [],
   "source": [
    "// TODO "
   ]
  },
  {
   "cell_type": "markdown",
   "metadata": {},
   "source": [
    "## Aufgabe 5\n",
    "Ermitteln Sie für den Studierenden mit der Matrikelnummer `s12321` ein\n",
    "Notenliste, in welcher die Noten in der Langform (\"Sehr gut\", \"Gut\", ...)\n",
    "angegeben werden. Übernehmen Sie die Note aus dem Feld `gradeStrings`."
   ]
  },
  {
   "cell_type": "code",
   "execution_count": null,
   "metadata": {
    "dotnet_interactive": {
     "language": "csharp"
    },
    "vscode": {
     "languageId": "polyglot-notebook"
    }
   },
   "outputs": [],
   "source": [
    "var gradeStrings = new [] { \"Sehr gut\", \"Gut\", \"Befriedigend\", \"Genügend\", \"Nicht genügend\" };\n",
    "\n",
    "// TODO"
   ]
  }
 ],
 "metadata": {
  "kernelspec": {
   "display_name": ".NET (C#)",
   "language": "C#",
   "name": ".net-csharp"
  },
  "language_info": {
   "name": "C#"
  }
 },
 "nbformat": 4,
 "nbformat_minor": 2
}
