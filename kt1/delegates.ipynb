{
 "cells": [
  {
   "cell_type": "code",
   "execution_count": 1,
   "metadata": {
    "dotnet_interactive": {
     "language": "csharp"
    },
    "polyglot_notebook": {
     "kernelName": "csharp"
    },
    "vscode": {
     "languageId": "polyglot-notebook"
    }
   },
   "outputs": [],
   "source": []
  },
  {
   "cell_type": "code",
   "execution_count": 2,
   "metadata": {
    "dotnet_interactive": {
     "language": "csharp"
    },
    "polyglot_notebook": {
     "kernelName": "csharp"
    },
    "vscode": {
     "languageId": "polyglot-notebook"
    }
   },
   "outputs": [
    {
     "name": "stdout",
     "output_type": "stream",
     "text": [
      "Hello!\n",
      "World!\n",
      "Hello!\n",
      "World!\n"
     ]
    }
   ],
   "source": [
    "delegate void Procedure();\n",
    "\n",
    "static void PrintHello() => Console.WriteLine(\"Hello!\");\n",
    "static void PrintWorld() => Console.WriteLine(\"World!\");\n",
    "\n",
    "Procedure p = PrintHello;\n",
    "p += PrintWorld;\n",
    "\n",
    "p.Invoke();\n",
    "p();"
   ]
  },
  {
   "cell_type": "code",
   "execution_count": 3,
   "metadata": {
    "dotnet_interactive": {
     "language": "csharp"
    },
    "polyglot_notebook": {
     "kernelName": "csharp"
    },
    "vscode": {
     "languageId": "polyglot-notebook"
    }
   },
   "outputs": [
    {
     "name": "stdout",
     "output_type": "stream",
     "text": [
      "123\r\n"
     ]
    }
   ],
   "source": [
    "delegate Tout Transform<Tin, Tout>(Tin value);\n",
    "\n",
    "static string IntToString(int value) => value.ToString();\n",
    "\n",
    "Transform<int, string> t = IntToString;\n",
    "\n",
    "Console.WriteLine(t(123));\n"
   ]
  },
  {
   "cell_type": "code",
   "execution_count": null,
   "metadata": {
    "vscode": {
     "languageId": "polyglot-notebook"
    }
   },
   "outputs": [
    {
     "name": "stdout",
     "output_type": "stream",
     "text": [
      "Test\r\n"
     ]
    }
   ],
   "source": [
    "public delegate void UpdateCallback(string message);\n",
    "\n",
    "public class Sender\n",
    "{\n",
    "    public event UpdateCallback Observers;\n",
    "\n",
    "    public void Notify(string message){\n",
    "        Observers?.Invoke(message);\n",
    "    }\n",
    "}\n",
    "\n",
    "\n",
    "public class Receiver{\n",
    "    public void Subscribe(Sender sender){\n",
    "        sender.Observers += Message;\n",
    "    }\n",
    "\n",
    "    public void Message(string message){\n",
    "        Console.WriteLine($\"{message} to Receiver\");\n",
    "    }\n",
    "}\n",
    "\n",
    "Sender sender = new Sender();\n",
    "Receiver r = new Receiver();\n",
    "\n",
    "r.Subscribe(sender);\n",
    "\n",
    "sender.Notify(\"Test\");"
   ]
  },
  {
   "cell_type": "code",
   "execution_count": null,
   "metadata": {
    "dotnet_interactive": {
     "language": "csharp"
    },
    "polyglot_notebook": {
     "kernelName": "csharp"
    },
    "vscode": {
     "languageId": "polyglot-notebook"
    }
   },
   "outputs": [
    {
     "name": "stdout",
     "output_type": "stream",
     "text": [
      "Newspaper received news: Test\r\n"
     ]
    }
   ],
   "source": [
    "public class NewsAgency\n",
    "{\n",
    "    public delegate void NewsEventHandler(string news);\n",
    "    public event NewsEventHandler NewsPublished;\n",
    "\n",
    "    public void ReleaseNews(string news){\n",
    "        NewsPublished?.Invoke(news);\n",
    "    }\n",
    "}\n",
    "\n",
    "public class Newspaper\n",
    "{\n",
    "    public void Subscribe(NewsAgency agency)\n",
    "    {\n",
    "        agency.NewsPublished += ReceiveNews;\n",
    "    }\n",
    "    private void ReceiveNews(string news)\n",
    "    {\n",
    "        Console.WriteLine($\"Newspaper received news: {news}\");\n",
    "    }\n",
    "}\n",
    "\n",
    "NewsAgency agency = new NewsAgency();\n",
    "\n",
    "Newspaper newspaper = new Newspaper();\n",
    "\n",
    "newspaper.Subscribe(agency);\n",
    "\n",
    "agency.ReleaseNews(\"Test\");"
   ]
  }
 ],
 "metadata": {
  "kernelspec": {
   "display_name": ".NET (C#)",
   "language": "C#",
   "name": ".net-csharp"
  },
  "language_info": {
   "name": "csharp"
  },
  "polyglot_notebook": {
   "kernelInfo": {
    "defaultKernelName": "csharp",
    "items": [
     {
      "aliases": [],
      "name": "csharp"
     }
    ]
   }
  }
 },
 "nbformat": 4,
 "nbformat_minor": 2
}
