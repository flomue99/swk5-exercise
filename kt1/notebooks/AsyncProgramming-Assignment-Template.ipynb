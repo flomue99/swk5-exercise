{
 "cells": [
  {
   "cell_type": "markdown",
   "metadata": {},
   "source": [
    "Aufgaben zu async/await\n",
    "======================="
   ]
  },
  {
   "cell_type": "markdown",
   "metadata": {},
   "source": [
    "Analysieren Sie die nachfolgend angegebenen Methoden. Lösen Sie auf Basis dieser\n",
    "Methoden untenstehende Aufgaben."
   ]
  },
  {
   "cell_type": "code",
   "execution_count": null,
   "metadata": {
    "dotnet_interactive": {
     "language": "csharp"
    },
    "vscode": {
     "languageId": "polyglot-notebook"
    }
   },
   "outputs": [],
   "source": [
    "async static Task<IEnumerable<T>> FilterAsync<T>(this IEnumerable<T> items, Func<T, bool> predicate) \n",
    "{\n",
    "  Console.WriteLine(\"Started\");\n",
    "  var result = new List<T>();\n",
    "  foreach (var item in items)\n",
    "  {\n",
    "    await Task.Delay(100);\n",
    "    if (predicate(item))\n",
    "    {\n",
    "      result.Add(item);\n",
    "    }\n",
    "  }\n",
    "  Console.WriteLine(\"Finished\");\n",
    "  return result;\n",
    "}\n",
    "\n",
    "static bool IsPrime(int n) => n>=2 && !Enumerable.Range(2, (int)Math.Sqrt(n+1)-1).Any(i => n%i==0);"
   ]
  },
  {
   "cell_type": "markdown",
   "metadata": {},
   "source": [
    "## Aufgabe 1\n",
    "Ermitteln Sie alle Primzahlen im Bereich von 1 bis 20."
   ]
  },
  {
   "cell_type": "code",
   "execution_count": null,
   "metadata": {
    "dotnet_interactive": {
     "language": "csharp"
    },
    "vscode": {
     "languageId": "polyglot-notebook"
    }
   },
   "outputs": [
    {
     "data": {
      "text/html": [
       "<div class=\"dni-plaintext\"><pre>[ 2, 3, 5, 7, 11, 13, 17, 19 ]</pre></div><style>\r\n",
       ".dni-code-hint {\r\n",
       "    font-style: italic;\r\n",
       "    overflow: hidden;\r\n",
       "    white-space: nowrap;\r\n",
       "}\r\n",
       ".dni-treeview {\r\n",
       "    white-space: nowrap;\r\n",
       "}\r\n",
       ".dni-treeview td {\r\n",
       "    vertical-align: top;\r\n",
       "    text-align: start;\r\n",
       "}\r\n",
       "details.dni-treeview {\r\n",
       "    padding-left: 1em;\r\n",
       "}\r\n",
       "table td {\r\n",
       "    text-align: start;\r\n",
       "}\r\n",
       "table tr { \r\n",
       "    vertical-align: top; \r\n",
       "    margin: 0em 0px;\r\n",
       "}\r\n",
       "table tr td pre \r\n",
       "{ \r\n",
       "    vertical-align: top !important; \r\n",
       "    margin: 0em 0px !important;\r\n",
       "} \r\n",
       "table th {\r\n",
       "    text-align: start;\r\n",
       "}\r\n",
       "</style>"
      ]
     },
     "metadata": {},
     "output_type": "display_data"
    }
   ],
   "source": [
    "var start = DateTime.Now()\n",
    "var numbers = Enumerable.Range(1,20);\n",
    "return await numbers.FilterAsync<int>(IsPrime);"
   ]
  },
  {
   "cell_type": "markdown",
   "metadata": {},
   "source": [
    "## Aufgabe 2\n",
    "Ermitteln Sie alle Primzahlen im Interval [1,20], indem Sie die\n",
    "Primzahlenbestimmung *parallel* auf den Intervallen [1,10] und [11,20]\n",
    "durchführen und anschließend die Teilergebnisse zusammenfügen\n",
    "(`IEnumerable.Concat`). Vergleich Sie die Laufzeit dieser Variante mit jeder aus\n",
    "Aufgabe 1."
   ]
  },
  {
   "cell_type": "code",
   "execution_count": null,
   "metadata": {
    "dotnet_interactive": {
     "language": "csharp"
    },
    "vscode": {
     "languageId": "polyglot-notebook"
    }
   },
   "outputs": [
    {
     "data": {
      "text/html": [
       "<div class=\"dni-plaintext\"><pre>[ 2, 3, 5, 7, 11, 13, 17, 19 ]</pre></div><style>\r\n",
       ".dni-code-hint {\r\n",
       "    font-style: italic;\r\n",
       "    overflow: hidden;\r\n",
       "    white-space: nowrap;\r\n",
       "}\r\n",
       ".dni-treeview {\r\n",
       "    white-space: nowrap;\r\n",
       "}\r\n",
       ".dni-treeview td {\r\n",
       "    vertical-align: top;\r\n",
       "    text-align: start;\r\n",
       "}\r\n",
       "details.dni-treeview {\r\n",
       "    padding-left: 1em;\r\n",
       "}\r\n",
       "table td {\r\n",
       "    text-align: start;\r\n",
       "}\r\n",
       "table tr { \r\n",
       "    vertical-align: top; \r\n",
       "    margin: 0em 0px;\r\n",
       "}\r\n",
       "table tr td pre \r\n",
       "{ \r\n",
       "    vertical-align: top !important; \r\n",
       "    margin: 0em 0px !important;\r\n",
       "} \r\n",
       "table th {\r\n",
       "    text-align: start;\r\n",
       "}\r\n",
       "</style>"
      ]
     },
     "metadata": {},
     "output_type": "display_data"
    }
   ],
   "source": [
    "//Task<IEnumerable<int>>  t1 = Enumerable.Range(1,10).FilterAsync<int>(IsPrime);\n",
    "//Task<IEnumerable<int>>  t2 = Enumerable.Range(11,10).FilterAsync<int>(IsPrime);\n",
    "//await Task.WhenAll(t1, t2);\n",
    "//return Enumerable.Concat(t1.Result, t2.Result);\n",
    "\n",
    "var res1 = await Enumerable.Range(1,10).FilterAsync<int>(IsPrime);\n",
    "var res2 = await Enumerable.Range(11,10).FilterAsync<int>(IsPrime);\n",
    "\n",
    "return Enumerable.Concat(res1, res2);"
   ]
  },
  {
   "cell_type": "code",
   "execution_count": null,
   "metadata": {
    "vscode": {
     "languageId": "polyglot-notebook"
    }
   },
   "outputs": [],
   "source": []
  }
 ],
 "metadata": {
  "kernelspec": {
   "display_name": ".NET (C#)",
   "language": "C#",
   "name": ".net-csharp"
  },
  "language_info": {
   "name": "C#"
  },
  "polyglot_notebook": {
   "kernelInfo": {
    "defaultKernelName": "csharp",
    "items": [
     {
      "aliases": [],
      "name": "csharp"
     }
    ]
   }
  }
 },
 "nbformat": 4,
 "nbformat_minor": 2
}
