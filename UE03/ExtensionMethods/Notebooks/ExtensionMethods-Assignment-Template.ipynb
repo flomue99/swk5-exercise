{
 "cells": [
  {
   "cell_type": "markdown",
   "metadata": {},
   "source": [
    "# Aufgabe 1\n",
    "Schreiben Sie für den Datentyp `int` eine Erweiterungsmethode `IsEven`, welche\n",
    "`true` liefert, falls eine Zahl gerade ist, und sonst `false` zurückgibt."
   ]
  },
  {
   "cell_type": "code",
   "execution_count": 4,
   "metadata": {
    "dotnet_interactive": {
     "language": "csharp"
    },
    "vscode": {
     "languageId": "polyglot-notebook"
    }
   },
   "outputs": [],
   "source": [
    "public static bool IsEven(this int target){\n",
    "    return target % 2 == 0;\n",
    "}"
   ]
  },
  {
   "cell_type": "markdown",
   "metadata": {},
   "source": [
    "Führen Sie im nachstehenden Programmfragment die erforderlichen Ergänzungen\n",
    "durch, sodass für jede Zahl ausgegeben wird, ob sie grade oder ungerade ist."
   ]
  },
  {
   "cell_type": "code",
   "execution_count": 7,
   "metadata": {
    "dotnet_interactive": {
     "language": "csharp"
    },
    "vscode": {
     "languageId": "polyglot-notebook"
    }
   },
   "outputs": [
    {
     "name": "stdout",
     "output_type": "stream",
     "text": [
      "1 is odd\n",
      "2 is even\n",
      "3 is odd\n",
      "4 is even\n"
     ]
    }
   ],
   "source": [
    "foreach (var i in new [] {1,2,3,4}) \n",
    "{\n",
    "   Console.WriteLine($\"{i} is {(i % 2 == 0 ? \"even\" : \"odd\")}\");\n",
    "}"
   ]
  },
  {
   "cell_type": "markdown",
   "metadata": {},
   "source": [
    "# Aufgabe 2\n",
    "Schreiben Sie für `int` eine weitere Erweiterungsmethode `Holds`, welche überprüft, ob für eine ganze Zahl ein vorgegebenes Prädikat erfüllt ist."
   ]
  },
  {
   "cell_type": "markdown",
   "metadata": {},
   "source": [
    "Definieren Sie dafür zunächst einen Delegate-Type `Predicate`, der Methoden\n",
    "beschreibt, die eine ganze Zahl auf einen booleschen Wert abbilden."
   ]
  },
  {
   "cell_type": "code",
   "execution_count": 41,
   "metadata": {
    "dotnet_interactive": {
     "language": "csharp"
    },
    "vscode": {
     "languageId": "polyglot-notebook"
    }
   },
   "outputs": [],
   "source": [
    "public delegate bool Predicate<T>(T val);"
   ]
  },
  {
   "cell_type": "markdown",
   "metadata": {},
   "source": [
    "Implementieren Sie nun auf Basis von `Predicate` die Erweiterungsmethode `Holds`."
   ]
  },
  {
   "cell_type": "code",
   "execution_count": 13,
   "metadata": {
    "dotnet_interactive": {
     "language": "csharp"
    },
    "vscode": {
     "languageId": "polyglot-notebook"
    }
   },
   "outputs": [],
   "source": [
    "public static bool Holds(this int target, Predicate predicate){\n",
    "    return predicate(target);\n",
    "}"
   ]
  },
  {
   "cell_type": "markdown",
   "metadata": {},
   "source": [
    "Geben Sie nachfolgend unter Zuhilfenahme von `Holds` alle positiven Zahlen des\n",
    "Arrays `numbers` auf der Konsole aus."
   ]
  },
  {
   "cell_type": "code",
   "execution_count": 73,
   "metadata": {
    "dotnet_interactive": {
     "language": "csharp"
    },
    "vscode": {
     "languageId": "polyglot-notebook"
    }
   },
   "outputs": [
    {
     "name": "stdout",
     "output_type": "stream",
     "text": [
      "-1\n",
      "-5\n",
      "-17\n"
     ]
    }
   ],
   "source": [
    "var numbers = new [] { -1, 3, -5, 8, -17, 41 };\n",
    "\n",
    "\n",
    "Predicate pred = n => n > 0;\n",
    "\n",
    "static bool IsGreaterZero(int number){\n",
    "    return number > 0;\n",
    "}\n",
    "static bool IsSmallerZero(int number){\n",
    "    return number < 0;\n",
    "}\n",
    "\n",
    "static void Print(int number){\n",
    "    Console.WriteLine(number);\n",
    "}\n",
    "\n",
    "Predicate pred1 = IsGreaterZero;\n",
    "pred1 += IsSmallerZero;\n",
    "\n",
    "Predicate pred2 = new Predicate(IsGreaterZero);\n",
    "\n",
    "foreach (var i in numbers) \n",
    "{\n",
    "   if(i.Holds(pred1)){\n",
    "    Console.WriteLine(i);\n",
    "   }\n",
    "}"
   ]
  },
  {
   "cell_type": "markdown",
   "metadata": {},
   "source": [
    "# Aufgabe 3\n",
    "Implementieren Sie eine Erweiterungsmethode `HoldsForAll`, welche für einen\n",
    "beliebigen Behälter von Werten mit dem Datentyp T überprüft, ob ein Prädikat für alle\n",
    "Elemente eines Behälters erfüllt ist.\n",
    "\n",
    "*Hinweis:* Sie müssen dafür auch den Delegate-Typ `Predicate` allgemeiner definieren."
   ]
  },
  {
   "cell_type": "code",
   "execution_count": 42,
   "metadata": {
    "dotnet_interactive": {
     "language": "csharp"
    },
    "vscode": {
     "languageId": "polyglot-notebook"
    }
   },
   "outputs": [],
   "source": [
    "public static bool HoldsForAll<T>(this IEnumerable<T> target, Predicate<T> predicate){\n",
    "    foreach(var item in target){\n",
    "        if(!predicate(item)) return false;\n",
    "    }\n",
    "    return true;\n",
    "}"
   ]
  },
  {
   "cell_type": "markdown",
   "metadata": {},
   "source": [
    "Testen Sie `HoldsForAll`, indem Sie überprüfen, ob alle in `words` enthalten\n",
    "Zeichenketten nicht leer sind."
   ]
  },
  {
   "cell_type": "code",
   "execution_count": 50,
   "metadata": {
    "dotnet_interactive": {
     "language": "csharp"
    },
    "vscode": {
     "languageId": "polyglot-notebook"
    }
   },
   "outputs": [
    {
     "name": "stdout",
     "output_type": "stream",
     "text": [
      "noEmptyWords=True\r\n"
     ]
    }
   ],
   "source": [
    "var words = new [] { \"Hello\", \"world\"};\n",
    "bool noEmptyWords = words.HoldsForAll<string>((Predicate<string>)(s => s != \"\"));\n",
    "\n",
    "Console.WriteLine($\"noEmptyWords={noEmptyWords}\");"
   ]
  },
  {
   "cell_type": "code",
   "execution_count": 66,
   "metadata": {
    "dotnet_interactive": {
     "language": "csharp"
    },
    "polyglot_notebook": {
     "kernelName": "csharp"
    },
    "vscode": {
     "languageId": "polyglot-notebook"
    }
   },
   "outputs": [],
   "source": [
    "public delegate void Logger<T>(T message);"
   ]
  },
  {
   "cell_type": "code",
   "execution_count": 70,
   "metadata": {
    "dotnet_interactive": {
     "language": "csharp"
    },
    "polyglot_notebook": {
     "kernelName": "csharp"
    },
    "vscode": {
     "languageId": "polyglot-notebook"
    }
   },
   "outputs": [
    {
     "name": "stdout",
     "output_type": "stream",
     "text": [
      "Error Message\n",
      "Warning Message\n"
     ]
    }
   ],
   "source": [
    "public delegate void Logger<T>(T message);\n",
    "\n",
    "static void LogError<T>(T message){\n",
    "    Console.WriteLine($\"Error {message}\");\n",
    "}\n",
    "\n",
    "static void LogWarning<T>(T message){\n",
    "    Console.WriteLine($\"Warning {message}\");\n",
    "}\n",
    "\n",
    "Logger<String> logger = LogError<String>;\n",
    "logger += LogWarning<String>;\n",
    "logger(\"Message\");"
   ]
  },
  {
   "cell_type": "code",
   "execution_count": null,
   "metadata": {
    "dotnet_interactive": {
     "language": "csharp"
    },
    "polyglot_notebook": {
     "kernelName": "csharp"
    },
    "vscode": {
     "languageId": "polyglot-notebook"
    }
   },
   "outputs": [],
   "source": [
    "Logger<String> logger = LogError<String>;\n",
    "logger += LogWarning<String>;"
   ]
  },
  {
   "cell_type": "code",
   "execution_count": 69,
   "metadata": {
    "dotnet_interactive": {
     "language": "csharp"
    },
    "polyglot_notebook": {
     "kernelName": "csharp"
    },
    "vscode": {
     "languageId": "polyglot-notebook"
    }
   },
   "outputs": [
    {
     "name": "stdout",
     "output_type": "stream",
     "text": [
      "Error Message\n",
      "Warning Message\n"
     ]
    }
   ],
   "source": [
    "logger(\"Message\");\n"
   ]
  }
 ],
 "metadata": {
  "kernelspec": {
   "display_name": ".NET (C#)",
   "language": "C#",
   "name": ".net-csharp"
  },
  "language_info": {
   "name": "C#"
  },
  "polyglot_notebook": {
   "kernelInfo": {
    "defaultKernelName": "csharp",
    "items": [
     {
      "aliases": [],
      "name": "csharp"
     }
    ]
   }
  }
 },
 "nbformat": 4,
 "nbformat_minor": 2
}
